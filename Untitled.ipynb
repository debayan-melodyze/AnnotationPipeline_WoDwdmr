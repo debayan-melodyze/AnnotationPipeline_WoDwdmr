{
 "cells": [
  {
   "cell_type": "code",
   "execution_count": 1,
   "id": "211ca30d",
   "metadata": {},
   "outputs": [],
   "source": [
    "from os import listdir"
   ]
  },
  {
   "cell_type": "code",
   "execution_count": 2,
   "id": "229dbac6",
   "metadata": {},
   "outputs": [
    {
     "data": {
      "text/plain": [
       "['.DS_Store',\n",
       " 'A.mp3',\n",
       " 'A_sharp.mp3',\n",
       " 'B.mp3',\n",
       " 'C.mp3',\n",
       " 'C_sharp.mp3',\n",
       " 'D.mp3',\n",
       " 'D_sharp.mp3',\n",
       " 'E.mp3',\n",
       " 'F.mp3',\n",
       " 'F_sharp.mp3',\n",
       " 'G.mp3',\n",
       " 'G_sharp.mp3']"
      ]
     },
     "execution_count": 2,
     "metadata": {},
     "output_type": "execute_result"
    }
   ],
   "source": [
    "os.listdir(\"C:\\\\Melodyze_Projects\\\\Annotation Data\\\\Annotation_FIles Sweet Child\\\\Annotation_FIles Sweet Child\\\\Rock_Files\\\\\")"
   ]
  },
  {
   "cell_type": "code",
   "execution_count": null,
   "id": "38681464",
   "metadata": {},
   "outputs": [],
   "source": []
  }
 ],
 "metadata": {
  "kernelspec": {
   "display_name": "melodyze_venv",
   "language": "python",
   "name": "melodyze_venv"
  },
  "language_info": {
   "codemirror_mode": {
    "name": "ipython",
    "version": 3
   },
   "file_extension": ".py",
   "mimetype": "text/x-python",
   "name": "python",
   "nbconvert_exporter": "python",
   "pygments_lexer": "ipython3",
   "version": "3.10.0rc2"
  }
 },
 "nbformat": 4,
 "nbformat_minor": 5
}
