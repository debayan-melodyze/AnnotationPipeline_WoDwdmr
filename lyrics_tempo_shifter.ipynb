{
 "cells": [
  {
   "cell_type": "code",
   "execution_count": 191,
   "id": "b259759c",
   "metadata": {},
   "outputs": [],
   "source": [
    "import json"
   ]
  },
  {
   "cell_type": "code",
   "execution_count": 192,
   "id": "4dd0bd35",
   "metadata": {},
   "outputs": [],
   "source": [
    "with open(\"song_13_Summertime Sadness_140_electronic.json\", \"r\") as f:\n",
    "    dict_ = json.load(f)"
   ]
  },
  {
   "cell_type": "code",
   "execution_count": 193,
   "id": "ce9b644d",
   "metadata": {},
   "outputs": [],
   "source": [
    "src = 140\n",
    "tgt = 150\n",
    "factor = float(src/tgt)"
   ]
  },
  {
   "cell_type": "code",
   "execution_count": 194,
   "id": "f78d870c",
   "metadata": {},
   "outputs": [],
   "source": [
    "def convert_time_to_mili_seconds(time):\n",
    "    return (float(time.split(\":\")[0])*60 + float(time.split(\":\")[1])) * 1000 + float(time.split(\":\")[2])\n",
    "\n",
    "def convert_mili_seconds_to_time(mili_seconds):\n",
    "    mili_seconds = int(round(mili_seconds))\n",
    "    seconds = mili_seconds // 1000\n",
    "    return str(seconds // 60) + \":\" + str(seconds % 60)  + \":\" + str(mili_seconds % 1000).zfill(3)"
   ]
  },
  {
   "cell_type": "code",
   "execution_count": 195,
   "id": "ce52a963",
   "metadata": {},
   "outputs": [],
   "source": [
    "new_dict = dict_.copy()\n",
    "\n",
    "countdown = new_dict['countdown']['data']\n",
    "for i,item in enumerate(countdown):\n",
    "    start_time = convert_mili_seconds_to_time(convert_time_to_mili_seconds(item['start_time'])*factor)\n",
    "    end_time = convert_mili_seconds_to_time(convert_time_to_mili_seconds(item['end_time'])*factor)\n",
    "    countdown[i]['start_time'] = start_time\n",
    "    countdown[i]['end_time'] = end_time\n",
    "new_dict['countdown']['data'] = countdown\n",
    "\n",
    "lyrics = new_dict['lyrics']['data']\n",
    "for i,item in enumerate(lyrics):\n",
    "    start_time = convert_mili_seconds_to_time(convert_time_to_mili_seconds(item['start_time'])*factor)\n",
    "    end_time = convert_mili_seconds_to_time(convert_time_to_mili_seconds(item['end_time'])*factor)\n",
    "    lyrics[i]['start_time'] = start_time\n",
    "    lyrics[i]['end_time'] = end_time\n",
    "new_dict['lyrics']['data'] = lyrics\n",
    "\n",
    "new_dict['tempo'] = str(tgt)"
   ]
  },
  {
   "cell_type": "code",
   "execution_count": 196,
   "id": "15dc92bf",
   "metadata": {},
   "outputs": [],
   "source": [
    "# new_dict"
   ]
  },
  {
   "cell_type": "code",
   "execution_count": 197,
   "id": "15bd1f9b",
   "metadata": {},
   "outputs": [],
   "source": [
    "with open(\"song_13_Summertime Sadness_\"+str(tgt)+\"_electronic.json\", 'w') as json_file:\n",
    "    json.dump(new_dict, json_file)"
   ]
  },
  {
   "cell_type": "code",
   "execution_count": null,
   "id": "3024db63",
   "metadata": {},
   "outputs": [],
   "source": []
  },
  {
   "cell_type": "code",
   "execution_count": 155,
   "id": "d289b602",
   "metadata": {},
   "outputs": [
    {
     "data": {
      "text/plain": [
       "{'countdown': {'data': [{'line_number': 1,\n",
       "    'text': '3',\n",
       "    'start_time': '0:4:925',\n",
       "    'end_time': '0:5:461'},\n",
       "   {'line_number': 2,\n",
       "    'text': '2',\n",
       "    'start_time': '0:5:461',\n",
       "    'end_time': '0:5:997'},\n",
       "   {'line_number': 3,\n",
       "    'text': '1',\n",
       "    'start_time': '0:5:997',\n",
       "    'end_time': '0:6:533'},\n",
       "   {'line_number': 4,\n",
       "    'text': 'GO',\n",
       "    'start_time': '0:6:533',\n",
       "    'end_time': '0:7:069'}]},\n",
       " 'lyrics': {'data': [{'line_number': 1,\n",
       "    'text': 'I love it when you call me señorita',\n",
       "    'start_time': '0:7:069',\n",
       "    'end_time': '0:11:250'},\n",
       "   {'line_number': 2,\n",
       "    'text': \"I wish I could pretend I didn't need ya\",\n",
       "    'start_time': '0:11:250',\n",
       "    'end_time': '0:15:535'},\n",
       "   {'line_number': 3,\n",
       "    'text': 'But every touch is ooh, la-la-la',\n",
       "    'start_time': '0:15:535',\n",
       "    'end_time': '0:18:749'},\n",
       "   {'line_number': 4,\n",
       "    'text': \"It's true, la-la-la\",\n",
       "    'start_time': '0:18:749',\n",
       "    'end_time': '0:20:893'},\n",
       "   {'line_number': 5,\n",
       "    'text': 'Ooh, I should be running',\n",
       "    'start_time': '0:20:893',\n",
       "    'end_time': '0:23:035'},\n",
       "   {'line_number': 6,\n",
       "    'text': 'Ooh, you keep me coming for ya',\n",
       "    'start_time': '0:23:035',\n",
       "    'end_time': '0:25:714'},\n",
       "   {'line_number': 7,\n",
       "    'text': 'Land in Miami',\n",
       "    'start_time': '0:25:714',\n",
       "    'end_time': '0:27:857'},\n",
       "   {'line_number': 8,\n",
       "    'text': 'The air was hot from summer rain',\n",
       "    'start_time': '0:27:857',\n",
       "    'end_time': '0:30:000'},\n",
       "   {'line_number': 9,\n",
       "    'text': 'Sweat dripping off me',\n",
       "    'start_time': '0:30:000',\n",
       "    'end_time': '0:32:143'},\n",
       "   {'line_number': 10,\n",
       "    'text': 'Before I even knew her name, la-la-la',\n",
       "    'start_time': '0:32:143',\n",
       "    'end_time': '0:37:500'},\n",
       "   {'line_number': 11,\n",
       "    'text': 'It felt like ooh, la-la-la',\n",
       "    'start_time': '0:37:500',\n",
       "    'end_time': '0:40:179'},\n",
       "   {'line_number': 12,\n",
       "    'text': 'Yeah, no',\n",
       "    'start_time': '0:40:179',\n",
       "    'end_time': '0:42:856'},\n",
       "   {'line_number': 13,\n",
       "    'text': 'Sapphire moonlight',\n",
       "    'start_time': '0:42:856',\n",
       "    'end_time': '0:45:000'},\n",
       "   {'line_number': 14,\n",
       "    'text': 'We danced for hours in the sand',\n",
       "    'start_time': '0:45:000',\n",
       "    'end_time': '0:47:143'},\n",
       "   {'line_number': 15,\n",
       "    'text': 'Tequila sunrise',\n",
       "    'start_time': '0:47:143',\n",
       "    'end_time': '0:49:285'},\n",
       "   {'line_number': 16,\n",
       "    'text': 'Her body fit right in my hands, la-la-la',\n",
       "    'start_time': '0:49:285',\n",
       "    'end_time': '0:54:643'},\n",
       "   {'line_number': 17,\n",
       "    'text': 'It felt like ooh, la-la-la, yeah',\n",
       "    'start_time': '0:54:643',\n",
       "    'end_time': '0:58:392'},\n",
       "   {'line_number': 18,\n",
       "    'text': 'I love it when you call me señorita',\n",
       "    'start_time': '0:58:392',\n",
       "    'end_time': '1:2:679'},\n",
       "   {'line_number': 19,\n",
       "    'text': \"I wish I could pretend I didn't need ya\",\n",
       "    'start_time': '1:2:679',\n",
       "    'end_time': '1:6:965'},\n",
       "   {'line_number': 20,\n",
       "    'text': 'But every touch is ooh, la-la-la',\n",
       "    'start_time': '1:6:965',\n",
       "    'end_time': '1:10:178'},\n",
       "   {'line_number': 21,\n",
       "    'text': \"It's true, la-la-la\",\n",
       "    'start_time': '1:10:178',\n",
       "    'end_time': '1:12:322'},\n",
       "   {'line_number': 22,\n",
       "    'text': 'Ooh, I should be running',\n",
       "    'start_time': '1:12:322',\n",
       "    'end_time': '1:14:464'},\n",
       "   {'line_number': 23,\n",
       "    'text': 'Ooh, you know I love it when you call me señorita',\n",
       "    'start_time': '1:14:464',\n",
       "    'end_time': '1:19:821'},\n",
       "   {'line_number': 24,\n",
       "    'text': \"I wish it wasn't so damn hard to leave ya\",\n",
       "    'start_time': '1:19:821',\n",
       "    'end_time': '1:24:107'},\n",
       "   {'line_number': 25,\n",
       "    'text': 'But every touch is ooh, la-la-la',\n",
       "    'start_time': '1:24:107',\n",
       "    'end_time': '1:27:322'},\n",
       "   {'line_number': 26,\n",
       "    'text': \"It's true, la-la-la\",\n",
       "    'start_time': '1:27:322',\n",
       "    'end_time': '1:29:464'},\n",
       "   {'line_number': 27,\n",
       "    'text': 'Ooh, I should be running',\n",
       "    'start_time': '1:29:464',\n",
       "    'end_time': '1:31:607'},\n",
       "   {'line_number': 28,\n",
       "    'text': 'Ooh, you keep me coming for ya',\n",
       "    'start_time': '1:31:607',\n",
       "    'end_time': '1:34:018'}]},\n",
       " 'tempo': '117',\n",
       " 'genre': 'guitar'}"
      ]
     },
     "execution_count": 155,
     "metadata": {},
     "output_type": "execute_result"
    }
   ],
   "source": [
    "dict_"
   ]
  },
  {
   "cell_type": "code",
   "execution_count": null,
   "id": "85bcd3f9",
   "metadata": {},
   "outputs": [],
   "source": []
  }
 ],
 "metadata": {
  "kernelspec": {
   "display_name": "Python 3 (ipykernel)",
   "language": "python",
   "name": "python3"
  },
  "language_info": {
   "codemirror_mode": {
    "name": "ipython",
    "version": 3
   },
   "file_extension": ".py",
   "mimetype": "text/x-python",
   "name": "python",
   "nbconvert_exporter": "python",
   "pygments_lexer": "ipython3",
   "version": "3.11.3"
  }
 },
 "nbformat": 4,
 "nbformat_minor": 5
}
